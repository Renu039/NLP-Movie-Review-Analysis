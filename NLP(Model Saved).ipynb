{
 "cells": [
  {
   "cell_type": "code",
   "execution_count": 60,
   "id": "87de260b-d90e-4acb-8e6c-56ef853a5ebc",
   "metadata": {},
   "outputs": [],
   "source": [
    "import pandas as pd\n",
    "import pickle\n",
    "from nltk.stem import PorterStemmer\n",
    "import string\n",
    "import nltk\n",
    "from nltk.corpus import stopwords  \n",
    "from sklearn.naive_bayes import MultinomialNB"
   ]
  },
  {
   "cell_type": "code",
   "execution_count": 61,
   "id": "f8b89cb1-015d-4af7-9c8f-3834e89177c6",
   "metadata": {},
   "outputs": [
    {
     "name": "stderr",
     "output_type": "stream",
     "text": [
      "C:\\Users\\RENU\\anaconda3\\Lib\\site-packages\\sklearn\\base.py:376: InconsistentVersionWarning: Trying to unpickle estimator MultinomialNB from version 1.6.1 when using version 1.5.1. This might lead to breaking code or invalid results. Use at your own risk. For more info please refer to:\n",
      "https://scikit-learn.org/stable/model_persistence.html#security-maintainability-limitations\n",
      "  warnings.warn(\n",
      "C:\\Users\\RENU\\anaconda3\\Lib\\site-packages\\sklearn\\base.py:376: InconsistentVersionWarning: Trying to unpickle estimator CountVectorizer from version 1.6.1 when using version 1.5.1. This might lead to breaking code or invalid results. Use at your own risk. For more info please refer to:\n",
      "https://scikit-learn.org/stable/model_persistence.html#security-maintainability-limitations\n",
      "  warnings.warn(\n"
     ]
    }
   ],
   "source": [
    "naive_model = pickle.load(open('Review_Model.pkl','rb'))\n",
    "count_vectorizer = pickle.load(open('Vector_Model.pkl','rb'))"
   ]
  },
  {
   "cell_type": "code",
   "execution_count": 62,
   "id": "aaebf067-6815-4394-9072-2848e06035be",
   "metadata": {},
   "outputs": [
    {
     "name": "stdin",
     "output_type": "stream",
     "text": [
      "Enter rating of product (0-5: 4\n",
      "Enter a one/two word review of product: 'super!'\n",
      "Enter summary of product: 'This product is very good for value of money'\n"
     ]
    }
   ],
   "source": [
    "rate = int(input('Enter rating of product (0-5:'))\n",
    "review = input('Enter a one/two word review of product:')\n",
    "summary = input('Enter summary of product:')"
   ]
  },
  {
   "cell_type": "code",
   "execution_count": 63,
   "id": "460d6914-8eba-4cc3-b14c-c006ecc191c7",
   "metadata": {},
   "outputs": [],
   "source": [
    "rate = 4\n",
    "review = 'super!'\n",
    "summary = 'This product is very good for value of money'"
   ]
  },
  {
   "cell_type": "code",
   "execution_count": 64,
   "id": "db1cd7b7-049a-45e4-baae-4d24fcde3f72",
   "metadata": {},
   "outputs": [
    {
     "data": {
      "text/html": [
       "<div>\n",
       "<style scoped>\n",
       "    .dataframe tbody tr th:only-of-type {\n",
       "        vertical-align: middle;\n",
       "    }\n",
       "\n",
       "    .dataframe tbody tr th {\n",
       "        vertical-align: top;\n",
       "    }\n",
       "\n",
       "    .dataframe thead th {\n",
       "        text-align: right;\n",
       "    }\n",
       "</style>\n",
       "<table border=\"1\" class=\"dataframe\">\n",
       "  <thead>\n",
       "    <tr style=\"text-align: right;\">\n",
       "      <th></th>\n",
       "      <th>Rate</th>\n",
       "      <th>review</th>\n",
       "      <th>summary</th>\n",
       "    </tr>\n",
       "  </thead>\n",
       "  <tbody>\n",
       "    <tr>\n",
       "      <th>0</th>\n",
       "      <td>4</td>\n",
       "      <td>super!</td>\n",
       "      <td>This product is very good for value of money</td>\n",
       "    </tr>\n",
       "  </tbody>\n",
       "</table>\n",
       "</div>"
      ],
      "text/plain": [
       "   Rate  review                                       summary\n",
       "0     4  super!  This product is very good for value of money"
      ]
     },
     "execution_count": 64,
     "metadata": {},
     "output_type": "execute_result"
    }
   ],
   "source": [
    "data = pd.DataFrame([[rate, review, summary]], columns=['Rate', 'review', 'summary'])\n",
    "data"
   ]
  },
  {
   "cell_type": "code",
   "execution_count": 65,
   "id": "17bac347-d1a7-47e1-86c2-a03743a6fe71",
   "metadata": {},
   "outputs": [],
   "source": [
    "data['Rate'] = data['Rate'].apply(lambda rate:[str(rate)])"
   ]
  },
  {
   "cell_type": "code",
   "execution_count": 66,
   "id": "5f2e8423-b901-4c29-b3d5-da6a04ecf748",
   "metadata": {},
   "outputs": [],
   "source": [
    "def set_review(review):\n",
    "    review = review.replace(' ','')\n",
    "    return [review]"
   ]
  },
  {
   "cell_type": "code",
   "execution_count": 67,
   "id": "1566a5d2-b853-4e66-a687-f819fdd128b7",
   "metadata": {},
   "outputs": [],
   "source": [
    "data['review'] = data['review'].apply(set_review)"
   ]
  },
  {
   "cell_type": "code",
   "execution_count": 68,
   "id": "855c8936-9664-4106-aba3-40098bd1ff0a",
   "metadata": {},
   "outputs": [
    {
     "data": {
      "text/html": [
       "<div>\n",
       "<style scoped>\n",
       "    .dataframe tbody tr th:only-of-type {\n",
       "        vertical-align: middle;\n",
       "    }\n",
       "\n",
       "    .dataframe tbody tr th {\n",
       "        vertical-align: top;\n",
       "    }\n",
       "\n",
       "    .dataframe thead th {\n",
       "        text-align: right;\n",
       "    }\n",
       "</style>\n",
       "<table border=\"1\" class=\"dataframe\">\n",
       "  <thead>\n",
       "    <tr style=\"text-align: right;\">\n",
       "      <th></th>\n",
       "      <th>Rate</th>\n",
       "      <th>review</th>\n",
       "      <th>summary</th>\n",
       "    </tr>\n",
       "  </thead>\n",
       "  <tbody>\n",
       "    <tr>\n",
       "      <th>0</th>\n",
       "      <td>[4]</td>\n",
       "      <td>[super!]</td>\n",
       "      <td>This product is very good for value of money</td>\n",
       "    </tr>\n",
       "  </tbody>\n",
       "</table>\n",
       "</div>"
      ],
      "text/plain": [
       "  Rate    review                                       summary\n",
       "0  [4]  [super!]  This product is very good for value of money"
      ]
     },
     "execution_count": 68,
     "metadata": {},
     "output_type": "execute_result"
    }
   ],
   "source": [
    "data"
   ]
  },
  {
   "cell_type": "code",
   "execution_count": 69,
   "id": "9d1151cd-5a0f-495c-a867-c4e9a2857ec4",
   "metadata": {},
   "outputs": [
    {
     "name": "stderr",
     "output_type": "stream",
     "text": [
      "[nltk_data] Downloading package stopwords to\n",
      "[nltk_data]     C:\\Users\\RENU\\AppData\\Roaming\\nltk_data...\n",
      "[nltk_data]   Package stopwords is already up-to-date!\n"
     ]
    }
   ],
   "source": [
    "nltk.download('stopwords')\n",
    "def remove_stopwords_simple(text):\n",
    "    language='english'\n",
    "    stop_words = set(stopwords.words(language))\n",
    "    return ' '.join([word for word in str(text).split() if word.lower() not in stop_words])"
   ]
  },
  {
   "cell_type": "code",
   "execution_count": 70,
   "id": "bb2d19a5-6a9f-4c66-b426-bbb7f5d3e4cf",
   "metadata": {},
   "outputs": [],
   "source": [
    "porter_stemmer = PorterStemmer()"
   ]
  },
  {
   "cell_type": "code",
   "execution_count": 71,
   "id": "04039716-8bf5-476d-bbd0-19005cb00ad8",
   "metadata": {},
   "outputs": [],
   "source": [
    "def set_summary(summary):\n",
    "    temp = []\n",
    "    summary = summary.split()\n",
    "    for word in summary:\n",
    "        word = porter_stemmer.stem(word)\n",
    "        temp.append(word)\n",
    "    return temp"
   ]
  },
  {
   "cell_type": "code",
   "execution_count": 72,
   "id": "44ee4864-a032-454c-96f9-13877743669a",
   "metadata": {},
   "outputs": [],
   "source": [
    "data['summary'] = data['summary'].apply(remove_stopwords_simple)"
   ]
  },
  {
   "cell_type": "code",
   "execution_count": 73,
   "id": "55c86ca0-bc90-4acd-aa67-82ff4fea7f4b",
   "metadata": {},
   "outputs": [],
   "source": [
    "data['summary'] = data['summary'].apply(set_summary)"
   ]
  },
  {
   "cell_type": "code",
   "execution_count": 74,
   "id": "fb495f89-3102-419a-a36a-80ec6c7baa64",
   "metadata": {},
   "outputs": [
    {
     "data": {
      "text/html": [
       "<div>\n",
       "<style scoped>\n",
       "    .dataframe tbody tr th:only-of-type {\n",
       "        vertical-align: middle;\n",
       "    }\n",
       "\n",
       "    .dataframe tbody tr th {\n",
       "        vertical-align: top;\n",
       "    }\n",
       "\n",
       "    .dataframe thead th {\n",
       "        text-align: right;\n",
       "    }\n",
       "</style>\n",
       "<table border=\"1\" class=\"dataframe\">\n",
       "  <thead>\n",
       "    <tr style=\"text-align: right;\">\n",
       "      <th></th>\n",
       "      <th>Rate</th>\n",
       "      <th>review</th>\n",
       "      <th>summary</th>\n",
       "    </tr>\n",
       "  </thead>\n",
       "  <tbody>\n",
       "    <tr>\n",
       "      <th>0</th>\n",
       "      <td>[4]</td>\n",
       "      <td>[super!]</td>\n",
       "      <td>[product, good, valu, money]</td>\n",
       "    </tr>\n",
       "  </tbody>\n",
       "</table>\n",
       "</div>"
      ],
      "text/plain": [
       "  Rate    review                       summary\n",
       "0  [4]  [super!]  [product, good, valu, money]"
      ]
     },
     "execution_count": 74,
     "metadata": {},
     "output_type": "execute_result"
    }
   ],
   "source": [
    "data"
   ]
  },
  {
   "cell_type": "code",
   "execution_count": 75,
   "id": "6b442da6-3d6e-407b-92a2-032e1d614b3f",
   "metadata": {},
   "outputs": [],
   "source": [
    "data['Tag'] = data['Rate'] + data['review'] + data['summary']"
   ]
  },
  {
   "cell_type": "code",
   "execution_count": 76,
   "id": "dd9d8668-e95d-46fd-918a-33226da0f8cb",
   "metadata": {},
   "outputs": [],
   "source": [
    "data.drop(['Rate','review','summary'],axis=1,inplace=True)"
   ]
  },
  {
   "cell_type": "code",
   "execution_count": 77,
   "id": "88a8c870-d220-41ea-bacf-6326ceb513a7",
   "metadata": {},
   "outputs": [],
   "source": [
    "def remove_punctuation(text):\n",
    "    temp = []\n",
    "    punctuations = list(string.punctuation)\n",
    "    for word in text:\n",
    "        for symbol in punctuations:\n",
    "            if symbol in word:\n",
    "                word = word.replace(symbol,'')\n",
    "        temp.append(word)\n",
    "    return ' ' .join(temp)"
   ]
  },
  {
   "cell_type": "code",
   "execution_count": 78,
   "id": "4fcebdc7-b0b3-45be-962c-fc0434590273",
   "metadata": {},
   "outputs": [],
   "source": [
    "data['Tag'] = data['Tag'].apply(remove_punctuation)"
   ]
  },
  {
   "cell_type": "code",
   "execution_count": 79,
   "id": "5c5c104f-17ff-4b78-978d-f28b691631f6",
   "metadata": {},
   "outputs": [
    {
     "data": {
      "text/html": [
       "<div>\n",
       "<style scoped>\n",
       "    .dataframe tbody tr th:only-of-type {\n",
       "        vertical-align: middle;\n",
       "    }\n",
       "\n",
       "    .dataframe tbody tr th {\n",
       "        vertical-align: top;\n",
       "    }\n",
       "\n",
       "    .dataframe thead th {\n",
       "        text-align: right;\n",
       "    }\n",
       "</style>\n",
       "<table border=\"1\" class=\"dataframe\">\n",
       "  <thead>\n",
       "    <tr style=\"text-align: right;\">\n",
       "      <th></th>\n",
       "      <th>Tag</th>\n",
       "    </tr>\n",
       "  </thead>\n",
       "  <tbody>\n",
       "    <tr>\n",
       "      <th>0</th>\n",
       "      <td>4 super product good valu money</td>\n",
       "    </tr>\n",
       "  </tbody>\n",
       "</table>\n",
       "</div>"
      ],
      "text/plain": [
       "                               Tag\n",
       "0  4 super product good valu money"
      ]
     },
     "execution_count": 79,
     "metadata": {},
     "output_type": "execute_result"
    }
   ],
   "source": [
    "data"
   ]
  },
  {
   "cell_type": "code",
   "execution_count": 80,
   "id": "472da96f-b7be-4dce-977a-1de26ff4ea21",
   "metadata": {},
   "outputs": [],
   "source": [
    "from sklearn.feature_extraction.text import CountVectorizer\n",
    "\n",
    "vectorizer = CountVectorizer()\n",
    "vector_data = vectorizer.fit_transform(data['Tag']).toarray()\n"
   ]
  },
  {
   "cell_type": "code",
   "execution_count": 81,
   "id": "dc5e4ac0-3e18-4e29-8c21-2c2ecf20831a",
   "metadata": {},
   "outputs": [
    {
     "data": {
      "text/plain": [
       "array([[1, 1, 1, 1, 1]], dtype=int64)"
      ]
     },
     "execution_count": 81,
     "metadata": {},
     "output_type": "execute_result"
    }
   ],
   "source": [
    "vector_data"
   ]
  },
  {
   "cell_type": "code",
   "execution_count": 82,
   "id": "4366548c-b718-4539-84c5-6f561f5a9876",
   "metadata": {},
   "outputs": [],
   "source": [
    "# naive_model.predict(vector_data)"
   ]
  },
  {
   "cell_type": "code",
   "execution_count": null,
   "id": "58cefda3-11aa-410b-b58e-9539a4e39f74",
   "metadata": {},
   "outputs": [],
   "source": []
  },
  {
   "cell_type": "code",
   "execution_count": null,
   "id": "157dd8b0-07bb-430d-a86d-6297ae4b12d8",
   "metadata": {},
   "outputs": [],
   "source": []
  }
 ],
 "metadata": {
  "kernelspec": {
   "display_name": "Python 3 (ipykernel)",
   "language": "python",
   "name": "python3"
  },
  "language_info": {
   "codemirror_mode": {
    "name": "ipython",
    "version": 3
   },
   "file_extension": ".py",
   "mimetype": "text/x-python",
   "name": "python",
   "nbconvert_exporter": "python",
   "pygments_lexer": "ipython3",
   "version": "3.12.7"
  }
 },
 "nbformat": 4,
 "nbformat_minor": 5
}
